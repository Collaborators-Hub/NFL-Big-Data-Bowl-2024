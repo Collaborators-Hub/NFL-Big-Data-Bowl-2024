{
 "cells": [
  {
   "cell_type": "code",
   "execution_count": 3,
   "metadata": {},
   "outputs": [],
   "source": [
    "import pandas as pd\n",
    "import numpy as np\n",
    "import matplotlib as plt\n",
    "import seaborn as sns"
   ]
  },
  {
   "cell_type": "markdown",
   "metadata": {},
   "source": [
    "### Summary of the Dataset\n",
    "The players.csv file contains player-level information from players that participated in any of the tracking data files. The key variable is nflId"
   ]
  },
  {
   "cell_type": "markdown",
   "metadata": {},
   "source": [
    "### Column Description\n",
    "\n",
    "- **nflId** : Player identification number, unique across players (numeric)\n",
    "- **height** : Player height (text)\n",
    "- **weight** : Player weight (numeric)\n",
    "- **birthDate** : Date of birth (YYYY-MM-DD)\n",
    "- **collegeName** : Player college (text)\n",
    "- **position** : Official player position (text)\n",
    "- **displayName** : Player name (text)\n"
   ]
  },
  {
   "cell_type": "markdown",
   "metadata": {},
   "source": [
    "### Any Additional Information\n",
    "The weights of the players in NFL sports are typically higher compared to the average person.\n"
   ]
  },
  {
   "cell_type": "code",
   "execution_count": 4,
   "metadata": {},
   "outputs": [],
   "source": [
    "players = pd.read_csv(r'D:\\DBIT\\Self\\Programming\\Data Science\\2. Python Toolbox\\6) EDA\\NFL 2025\\NFL-Big-Data-Bowl-2025\\Data\\players.csv')"
   ]
  },
  {
   "cell_type": "code",
   "execution_count": 5,
   "metadata": {},
   "outputs": [
    {
     "data": {
      "text/html": [
       "<div>\n",
       "<style scoped>\n",
       "    .dataframe tbody tr th:only-of-type {\n",
       "        vertical-align: middle;\n",
       "    }\n",
       "\n",
       "    .dataframe tbody tr th {\n",
       "        vertical-align: top;\n",
       "    }\n",
       "\n",
       "    .dataframe thead th {\n",
       "        text-align: right;\n",
       "    }\n",
       "</style>\n",
       "<table border=\"1\" class=\"dataframe\">\n",
       "  <thead>\n",
       "    <tr style=\"text-align: right;\">\n",
       "      <th></th>\n",
       "      <th>nflId</th>\n",
       "      <th>height</th>\n",
       "      <th>weight</th>\n",
       "      <th>birthDate</th>\n",
       "      <th>collegeName</th>\n",
       "      <th>position</th>\n",
       "      <th>displayName</th>\n",
       "    </tr>\n",
       "  </thead>\n",
       "  <tbody>\n",
       "    <tr>\n",
       "      <th>0</th>\n",
       "      <td>25511</td>\n",
       "      <td>6-4</td>\n",
       "      <td>225</td>\n",
       "      <td>1977-08-03</td>\n",
       "      <td>Michigan</td>\n",
       "      <td>QB</td>\n",
       "      <td>Tom Brady</td>\n",
       "    </tr>\n",
       "    <tr>\n",
       "      <th>1</th>\n",
       "      <td>29550</td>\n",
       "      <td>6-4</td>\n",
       "      <td>328</td>\n",
       "      <td>1982-01-22</td>\n",
       "      <td>Arkansas</td>\n",
       "      <td>T</td>\n",
       "      <td>Jason Peters</td>\n",
       "    </tr>\n",
       "    <tr>\n",
       "      <th>2</th>\n",
       "      <td>29851</td>\n",
       "      <td>6-2</td>\n",
       "      <td>225</td>\n",
       "      <td>1983-12-02</td>\n",
       "      <td>California</td>\n",
       "      <td>QB</td>\n",
       "      <td>Aaron Rodgers</td>\n",
       "    </tr>\n",
       "    <tr>\n",
       "      <th>3</th>\n",
       "      <td>30842</td>\n",
       "      <td>6-6</td>\n",
       "      <td>267</td>\n",
       "      <td>1984-05-19</td>\n",
       "      <td>UCLA</td>\n",
       "      <td>TE</td>\n",
       "      <td>Marcedes Lewis</td>\n",
       "    </tr>\n",
       "    <tr>\n",
       "      <th>4</th>\n",
       "      <td>33084</td>\n",
       "      <td>6-4</td>\n",
       "      <td>217</td>\n",
       "      <td>1985-05-17</td>\n",
       "      <td>Boston College</td>\n",
       "      <td>QB</td>\n",
       "      <td>Matt Ryan</td>\n",
       "    </tr>\n",
       "  </tbody>\n",
       "</table>\n",
       "</div>"
      ],
      "text/plain": [
       "   nflId height  weight   birthDate     collegeName position     displayName\n",
       "0  25511    6-4     225  1977-08-03        Michigan       QB       Tom Brady\n",
       "1  29550    6-4     328  1982-01-22        Arkansas        T    Jason Peters\n",
       "2  29851    6-2     225  1983-12-02      California       QB   Aaron Rodgers\n",
       "3  30842    6-6     267  1984-05-19            UCLA       TE  Marcedes Lewis\n",
       "4  33084    6-4     217  1985-05-17  Boston College       QB       Matt Ryan"
      ]
     },
     "execution_count": 5,
     "metadata": {},
     "output_type": "execute_result"
    }
   ],
   "source": [
    "players.head()"
   ]
  },
  {
   "cell_type": "code",
   "execution_count": null,
   "metadata": {},
   "outputs": [],
   "source": []
  },
  {
   "cell_type": "code",
   "execution_count": null,
   "metadata": {},
   "outputs": [],
   "source": []
  },
  {
   "cell_type": "code",
   "execution_count": null,
   "metadata": {},
   "outputs": [],
   "source": []
  },
  {
   "cell_type": "code",
   "execution_count": null,
   "metadata": {},
   "outputs": [],
   "source": []
  }
 ],
 "metadata": {
  "kernelspec": {
   "display_name": "Python 3",
   "language": "python",
   "name": "python3"
  },
  "language_info": {
   "codemirror_mode": {
    "name": "ipython",
    "version": 3
   },
   "file_extension": ".py",
   "mimetype": "text/x-python",
   "name": "python",
   "nbconvert_exporter": "python",
   "pygments_lexer": "ipython3",
   "version": "3.11.3"
  }
 },
 "nbformat": 4,
 "nbformat_minor": 2
}
